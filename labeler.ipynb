{
 "cells": [
  {
   "cell_type": "markdown",
   "metadata": {},
   "source": [
    "# 데이터 불러오기"
   ]
  },
  {
   "cell_type": "code",
   "execution_count": 1,
   "metadata": {},
   "outputs": [
    {
     "data": {
      "text/plain": [
       "primary_label                                                 afrsil1\n",
       "secondary_labels                                                   []\n",
       "type                                          ['call', 'flight call']\n",
       "latitude                                                       12.391\n",
       "longitude                                                      -1.493\n",
       "scientific_name                                       Euodice cantans\n",
       "common_name                                        African Silverbill\n",
       "author                                                      Bram Piot\n",
       "license             Creative Commons Attribution-NonCommercial-Sha...\n",
       "rating                                                            2.5\n",
       "time                                                            08:00\n",
       "url                                 https://www.xeno-canto.org/125458\n",
       "filename                                         afrsil1/XC125458.ogg\n",
       "Name: 0, dtype: object"
      ]
     },
     "execution_count": 1,
     "metadata": {},
     "output_type": "execute_result"
    }
   ],
   "source": [
    "import pandas as pd\n",
    "import json\n",
    "import numpy as np\n",
    "\n",
    "anno = pd.read_csv('./train_metadata.csv')\n",
    "labels = anno.loc[:, ['primary_label', 'secondary_labels']]\n",
    "\n",
    "with open('./scored_birds.json', 'r') as file:\n",
    "    birds = json.load(file)\n",
    "\n",
    "anno.iloc[0, :]"
   ]
  },
  {
   "cell_type": "markdown",
   "metadata": {},
   "source": [
    "# 벡터화 함수 정의"
   ]
  },
  {
   "cell_type": "code",
   "execution_count": 2,
   "metadata": {},
   "outputs": [],
   "source": [
    "def vectorize(x):\n",
    "    init_vec = np.zeros(len(birds))\n",
    "\n",
    "    pri_label = x['primary_label']\n",
    "    sec_labels = x['secondary_labels']\n",
    "    sec_labels = [] if sec_labels == '[]' else sec_labels[1:-1].replace(\"'\", \"\").split(',')\n",
    "\n",
    "    # print(f'pri: {pri_label} / sec: {sec_labels}')\n",
    "\n",
    "    if pri_label in birds:\n",
    "        init_vec[birds.index(pri_label)] = 1.\n",
    "\n",
    "    for sec_label in sec_labels:\n",
    "        if sec_label in birds:\n",
    "            init_vec[birds.index(sec_label)] = 1.\n",
    "\n",
    "    return init_vec.tolist()\n",
    "\n",
    "labels = labels.apply(vectorize, axis='columns')"
   ]
  },
  {
   "cell_type": "markdown",
   "metadata": {},
   "source": [
    "# 벡터화된 label 삽입"
   ]
  },
  {
   "cell_type": "code",
   "execution_count": 3,
   "metadata": {},
   "outputs": [
    {
     "data": {
      "text/plain": [
       "label               [0.0, 0.0, 0.0, 0.0, 0.0, 0.0, 0.0, 0.0, 0.0, ...\n",
       "primary_label                                                 afrsil1\n",
       "secondary_labels                                                   []\n",
       "type                                          ['call', 'flight call']\n",
       "latitude                                                       12.391\n",
       "longitude                                                      -1.493\n",
       "scientific_name                                       Euodice cantans\n",
       "common_name                                        African Silverbill\n",
       "author                                                      Bram Piot\n",
       "license             Creative Commons Attribution-NonCommercial-Sha...\n",
       "rating                                                            2.5\n",
       "time                                                            08:00\n",
       "url                                 https://www.xeno-canto.org/125458\n",
       "filename                                         afrsil1/XC125458.ogg\n",
       "Name: 0, dtype: object"
      ]
     },
     "execution_count": 3,
     "metadata": {},
     "output_type": "execute_result"
    }
   ],
   "source": [
    "anno.insert(0, 'label', labels)\n",
    "anno.iloc[0, :]"
   ]
  },
  {
   "cell_type": "markdown",
   "metadata": {},
   "source": [
    "# 훈련 / 검증 데이터 분할 후 저장"
   ]
  },
  {
   "cell_type": "code",
   "execution_count": 4,
   "metadata": {},
   "outputs": [],
   "source": [
    "from sklearn.model_selection import train_test_split\n",
    "\n",
    "train, validation = train_test_split(anno, test_size=0.1)\n",
    "\n",
    "train.to_csv('./train_metadata_train.csv', index=False)\n",
    "validation.to_csv('./train_metadata_validation.csv', index=False)"
   ]
  }
 ],
 "metadata": {
  "interpreter": {
   "hash": "eeb6473bd1a908d86a8efe65a79fb1a1c59729d47e717730336387e16692a98c"
  },
  "kernelspec": {
   "display_name": "Python 3.9.7 ('BirdCLEF')",
   "language": "python",
   "name": "python3"
  },
  "language_info": {
   "codemirror_mode": {
    "name": "ipython",
    "version": 3
   },
   "file_extension": ".py",
   "mimetype": "text/x-python",
   "name": "python",
   "nbconvert_exporter": "python",
   "pygments_lexer": "ipython3",
   "version": "3.9.7"
  },
  "orig_nbformat": 4
 },
 "nbformat": 4,
 "nbformat_minor": 2
}
