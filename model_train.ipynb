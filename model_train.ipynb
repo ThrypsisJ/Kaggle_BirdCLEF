{
 "cells": [
  {
   "cell_type": "markdown",
   "metadata": {},
   "source": [
    "# Configuration"
   ]
  },
  {
   "cell_type": "code",
   "execution_count": null,
   "metadata": {},
   "outputs": [],
   "source": [
    "# 모듈 불러오기\n",
    "from Classes import BirdRecognition, BirdSoundDataset\n",
    "from torch.utils.data import DataLoader\n",
    "from pathlib import Path\n",
    "from datetime import datetime\n",
    "import torch\n",
    "import json\n",
    "\n",
    "# Device 설정\n",
    "if torch.cuda.is_available(): DEVICE = 'cuda'\n",
    "else                        : DEVICE = 'cpu'"
   ]
  },
  {
   "cell_type": "markdown",
   "metadata": {},
   "source": [
    "# 데이터셋과 모델 생성"
   ]
  },
  {
   "cell_type": "code",
   "execution_count": null,
   "metadata": {},
   "outputs": [],
   "source": [
    "with open('./scored_birds.json', 'r') as file:\n",
    "    CLASSES = json.load(file)\n",
    "\n",
    "# 훈련/검증 데이터셋\n",
    "trainset = BirdSoundDataset(Path('./train_metadata_train.csv'), Path('./train_audio'), CLASSES)\n",
    "train_loader = DataLoader(trainset, batch_size=1, shuffle=True, num_workers=0)\n",
    "\n",
    "valset = BirdSoundDataset(Path('./train_metadata_validation.csv'), Path('./train_audio'), CLASSES)\n",
    "val_loader = DataLoader(valset, batch_size=1, shuffle=True, num_workers=0)\n",
    "\n",
    "# 모델 생성\n",
    "model = BirdRecognition(CLASSES).to(DEVICE)\n",
    "optim = torch.optim.Adam(model.parameters(), lr=0.0000002)\n",
    "loss_f = torch.nn.BCELoss()"
   ]
  },
  {
   "cell_type": "markdown",
   "metadata": {},
   "source": [
    "# Annotation 정보 확인하기\n",
    "* Label 정보 vectorization은 사전에 수행 - labeler.ipynb 파일 참조"
   ]
  },
  {
   "cell_type": "code",
   "execution_count": null,
   "metadata": {},
   "outputs": [],
   "source": [
    "# trainset.annotations.iloc[:3, :]"
   ]
  },
  {
   "cell_type": "markdown",
   "metadata": {},
   "source": [
    "# 학습"
   ]
  },
  {
   "cell_type": "code",
   "execution_count": null,
   "metadata": {},
   "outputs": [],
   "source": [
    "EPOCH = 200\n",
    "BEST_MODEL = {'params': 0, 'loss': 10000}\n",
    "\n",
    "for epoch in range(EPOCH):\n",
    "    model.train()\n",
    "\n",
    "    for idx, data in enumerate(train_loader):\n",
    "        torch.cuda.empty_cache()\n",
    "        signal = data['signal'].squeeze(0).to(DEVICE)\n",
    "        label = list(map(float, data['labels'][0][1:-1].split(', ')))\n",
    "        label = torch.Tensor(label).to(DEVICE)\n",
    "\n",
    "        out = model(signal)\n",
    "        loss = loss_f(out, label)\n",
    "\n",
    "        optim.zero_grad()\n",
    "        loss.backward()\n",
    "        optim.step()\n",
    "\n",
    "        print(f'[EPOCH {epoch+1}] Now traning... {idx+1:05d}/{len(train_loader):05d}', end='\\r')\n",
    "\n",
    "    model.eval()\n",
    "    val_loss = []\n",
    "\n",
    "    for idx, data in enumerate(val_loader):\n",
    "        torch.cuda.empty_cache()\n",
    "        signal = data['signal'].squeeze(0).to(DEVICE)\n",
    "        label = list(map(float, data['labels'][0][1:-1].split(', ')))\n",
    "        label = torch.Tensor(label).to(DEVICE)\n",
    "\n",
    "        out = model(signal)\n",
    "        loss = loss_f(out, label)\n",
    "        val_loss.append(loss.detach().to('cpu'))\n",
    "        print(f'[EPOCH {epoch+1}] Validating model... {idx+1:05d}/{len(val_loader):05d}{\" \":30s}', end='\\r')\n",
    "    \n",
    "    val_loss = sum(val_loss) / len(val_loss)\n",
    "    print(f'\\nValidation loss: {val_loss:6.4f}')\n",
    "\n",
    "    if BEST_MODEL['loss'] > val_loss:\n",
    "        print('It is the best model. Saving the parameters.')\n",
    "        BEST_MODEL['loss'] = val_loss\n",
    "        BEST_MODEL['params'] = model.state_dict()"
   ]
  },
  {
   "cell_type": "markdown",
   "metadata": {},
   "source": [
    "# 최고 성능 파라미터 파일로 저장"
   ]
  },
  {
   "cell_type": "code",
   "execution_count": null,
   "metadata": {},
   "outputs": [],
   "source": [
    "from datetime import datetime\n",
    "import pickle\n",
    "\n",
    "for key in BEST_MODEL['params'].keys():\n",
    "    BEST_MODEL['params'][key] = BEST_MODEL['params'][key].to('cpu')\n",
    "\n",
    "param_dir = Path('./params')\n",
    "param_dir.mkdir(exist_ok=True)\n",
    "\n",
    "time = datetime.now()\n",
    "with open(param_dir / f'{time.year:04d}{time.month:02d}{time.day:02d}{time.hour:02d}{time.minute:02d}{time.second:02d}.params', 'wb') as file:\n",
    "    pickle.dump(BEST_MODEL['params'], file)"
   ]
  },
  {
   "cell_type": "code",
   "execution_count": null,
   "metadata": {},
   "outputs": [],
   "source": []
  }
 ],
 "metadata": {
  "interpreter": {
   "hash": "eeb6473bd1a908d86a8efe65a79fb1a1c59729d47e717730336387e16692a98c"
  },
  "kernelspec": {
   "display_name": "Python 3.9.7 ('BirdCLEF')",
   "language": "python",
   "name": "python3"
  },
  "language_info": {
   "codemirror_mode": {
    "name": "ipython",
    "version": 3
   },
   "file_extension": ".py",
   "mimetype": "text/x-python",
   "name": "python",
   "nbconvert_exporter": "python",
   "pygments_lexer": "ipython3",
   "version": "3.9.7"
  },
  "orig_nbformat": 4
 },
 "nbformat": 4,
 "nbformat_minor": 2
}
