{
 "cells": [
  {
   "cell_type": "code",
   "execution_count": 1,
   "metadata": {},
   "outputs": [],
   "source": [
    "# 모듈 불러오기\n",
    "from Classes import BirdSoundDataset_te as DSET\n",
    "from Classes import BirdRecognition as MODEL\n",
    "from pathlib import Path\n",
    "from tqdm.notebook import tqdm\n",
    "import pandas as pd\n",
    "import torch\n",
    "import json\n",
    "import pickle\n",
    "\n",
    "# Device 설정\n",
    "if torch.cuda.is_available(): DEVICE = 'cuda'\n",
    "else                        : DEVICE = 'cpu'"
   ]
  },
  {
   "cell_type": "markdown",
   "metadata": {},
   "source": [
    "# 데이터셋, 모델 불러오기"
   ]
  },
  {
   "cell_type": "code",
   "execution_count": 2,
   "metadata": {},
   "outputs": [
    {
     "data": {
      "text/plain": [
       "<All keys matched successfully>"
      ]
     },
     "execution_count": 2,
     "metadata": {},
     "output_type": "execute_result"
    }
   ],
   "source": [
    "with open('./scored_birds.json', 'r') as file:  # Bird classes for score\n",
    "    classes = json.load(file)\n",
    "\n",
    "testset = DSET(Path('./test_soundscapes'))      # test datset\n",
    "\n",
    "model = MODEL(32000)\n",
    "\n",
    "param_path = list(Path('./params').glob('*'))   # prameter list\n",
    "param_path.sort()\n",
    "param_path = param_path[-1]                     # last (newest) parameter\n",
    "with open(param_path, 'rb') as file:\n",
    "    param = pickle.load(file)                   # load parameter\n",
    "model.load_state_dict(param.to(DEVICE))"
   ]
  },
  {
   "cell_type": "markdown",
   "metadata": {},
   "source": [
    "# 테스트"
   ]
  },
  {
   "cell_type": "code",
   "execution_count": 3,
   "metadata": {},
   "outputs": [
    {
     "data": {
      "application/vnd.jupyter.widget-view+json": {
       "model_id": "6d05dce34d184aeea898157712c932ac",
       "version_major": 2,
       "version_minor": 0
      },
      "text/plain": [
       "  0%|          | 0/1 [00:00<?, ?it/s]"
      ]
     },
     "metadata": {},
     "output_type": "display_data"
    }
   ],
   "source": [
    "answers = { 'row_id': [], 'target': [] }\n",
    "\n",
    "for data in tqdm(testset):\n",
    "    inputs = data[1].tolist()\n",
    "    \n",
    "    for idx, input_ in enumerate(inputs):\n",
    "        input_ = torch.Tensor(input_)\n",
    "        out = model(input_).tolist()\n",
    "\n",
    "        for bidx, class_ in enumerate(classes):\n",
    "            answer_ = True if out[bidx] >= 0.5 else False\n",
    "            id_ = f'{data[0]}_{class_}_{5 * (idx+1)}'\n",
    "            answers['row_id'].append(id_)\n",
    "            answers['target'].append(answer_)\n",
    "\n",
    "answers = pd.DataFrame(answers)\n",
    "answers.sort_values(by='row_id', inplace=True)\n",
    "answers.to_csv('submission.csv', index=False)"
   ]
  },
  {
   "cell_type": "code",
   "execution_count": null,
   "metadata": {},
   "outputs": [],
   "source": []
  }
 ],
 "metadata": {
  "interpreter": {
   "hash": "eeb6473bd1a908d86a8efe65a79fb1a1c59729d47e717730336387e16692a98c"
  },
  "kernelspec": {
   "display_name": "Python 3.9.7 ('BirdCLEF')",
   "language": "python",
   "name": "python3"
  },
  "language_info": {
   "codemirror_mode": {
    "name": "ipython",
    "version": 3
   },
   "file_extension": ".py",
   "mimetype": "text/x-python",
   "name": "python",
   "nbconvert_exporter": "python",
   "pygments_lexer": "ipython3",
   "version": "3.9.7"
  },
  "orig_nbformat": 4
 },
 "nbformat": 4,
 "nbformat_minor": 2
}
